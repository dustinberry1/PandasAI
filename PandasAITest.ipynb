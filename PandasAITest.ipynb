{
 "cells": [
  {
   "cell_type": "markdown",
   "id": "2c5794c9",
   "metadata": {},
   "source": [
    "<div style=\"width: 100%; text-align: center;\">\n",
    "    <div style=\"display: inline-block;\"> \n",
    "        <img src=\"./maryvillelogo.png\" alt=\"Maryville Logo\" align=\"center\" border=\"0\"> \n",
    "    </div>\n",
    "    <div style=\"display: inline-block; margin-left: 10px; text-align: left;\">\n",
    "        <h1 style=\"text-align: center;\">Testing HW02 Solutions with PandasAI</h1>\n",
    "        <p style=\"text-align: center;\">Dustin Berry</p>\n",
    "    </div>\n",
    "</div>\n"
   ]
  },
  {
   "cell_type": "code",
   "execution_count": 6,
   "id": "6272a869",
   "metadata": {},
   "outputs": [],
   "source": [
    "#imports\n",
    "\n",
    "import pandas as pd\n",
    "import numpy as np\n",
    "import matplotlib.pyplot as plt \n",
    "\n",
    "import pandasai\n",
    "from pandasai import SmartDataframe, SmartDatalake, Agent\n",
    "from pandasai.llm import OpenAI\n",
    "\n",
    "import os\n",
    "\n",
    "%matplotlib inline"
   ]
  },
  {
   "cell_type": "markdown",
   "id": "ed91a1c0",
   "metadata": {},
   "source": [
    "<hr style=\"border: 1px solid black;\">"
   ]
  },
  {
   "cell_type": "markdown",
   "id": "074a6c43",
   "metadata": {},
   "source": [
    "In this section I'll answer the questions about the top and bottom 10 countries based on 2018 population as we did in Project 2."
   ]
  },
  {
   "cell_type": "code",
   "execution_count": 7,
   "id": "43c1dde4",
   "metadata": {},
   "outputs": [],
   "source": [
    "df = pd.read_csv(\"C:/Users/dusti/Documents/Maryville/Maryville_Teaching/\"\n",
    "                 \"DSCI 303 - Python/Project Solutions/Project 02/\"\n",
    "                 \"gapminder_data.txt\", sep='\\t')"
   ]
  },
  {
   "cell_type": "code",
   "execution_count": 8,
   "id": "530ec66f",
   "metadata": {},
   "outputs": [],
   "source": [
    "#steps to get to largest and smallest populations from 2018\n",
    "\n",
    "country = list(df['country'])\n",
    "continent = list(df['continent'])\n",
    "year = list(df['year'])\n",
    "pop = list(df['population'])\n",
    "life_exp = list(df['life_exp'])\n",
    "pcgdp = list(df['gdp_per_cap'])\n",
    "gini = list(df['gini'])\n",
    "#df = None \n",
    "#I still need the df for the conversion"
   ]
  },
  {
   "cell_type": "code",
   "execution_count": 9,
   "id": "c91cadb7",
   "metadata": {},
   "outputs": [],
   "source": [
    "#create the new lists for 2018\n",
    "\n",
    "country_2018 = []\n",
    "year_2018 = []\n",
    "pop_2018 = []\n",
    "continent_2018 = []\n",
    "life_exp_2018 = []\n",
    "pcgdp_2018 = []\n",
    "\n",
    "for i in range(0, len(country)):    \n",
    "    if(year[i] == 2018):\n",
    "        country_2018.append(country[i])\n",
    "        year_2018.append(year[i])\n",
    "        pop_2018.append(pop[i])\n",
    "        continent_2018.append(continent[i])\n",
    "        life_exp_2018.append(life_exp[i])\n",
    "        pcgdp_2018.append(pcgdp[i])"
   ]
  },
  {
   "cell_type": "code",
   "execution_count": 10,
   "id": "f580698d",
   "metadata": {},
   "outputs": [
    {
     "name": "stdout",
     "output_type": "stream",
     "text": [
      "Countries with Largest Populations in 2018\n",
      "------------------------------------------------------\n",
      "The population of Bangladesh in 2018 was 166000000.\n",
      "The population of Brazil in 2018 was 211000000.\n",
      "The population of China in 2018 was 1420000000.\n",
      "The population of India in 2018 was 1350000000.\n",
      "The population of Indonesia in 2018 was 267000000.\n",
      "The population of Mexico in 2018 was 131000000.\n",
      "The population of Nigeria in 2018 was 196000000.\n",
      "The population of Pakistan in 2018 was 201000000.\n",
      "The population of Russia in 2018 was 144000000.\n",
      "The population of United States in 2018 was 327000000.\n"
     ]
    }
   ],
   "source": [
    "#answer for question with top 10\n",
    "\n",
    "sorted_pop_2018 = sorted(pop_2018)\n",
    "tenth_largest_population = sorted_pop_2018[-10]\n",
    "print(\"Countries with Largest Populations in 2018\")\n",
    "print(\"------------------------------------------------------\")\n",
    "for i in range(len(pop_2018)):\n",
    "    if pop_2018[i] >= tenth_largest_population:\n",
    "        print(f\"The population of {country_2018[i]} in 2018 was {pop_2018[i]}.\")"
   ]
  },
  {
   "cell_type": "code",
   "execution_count": 11,
   "id": "f8dda285",
   "metadata": {},
   "outputs": [
    {
     "name": "stdout",
     "output_type": "stream",
     "text": [
      "Countries with Smallest Populations in 2018\n",
      "------------------------------------------------------\n",
      "The population of Antigua and Barbuda in 2018 was 103000.\n",
      "The population of Grenada in 2018 was 108000.\n",
      "The population of Kiribati in 2018 was 118000.\n",
      "The population of Micronesia, Fed. Sts. in 2018 was 106000.\n",
      "The population of Samoa in 2018 was 198000.\n",
      "The population of Sao Tome and Principe in 2018 was 209000.\n",
      "The population of Seychelles in 2018 was 95200.\n",
      "The population of St. Lucia in 2018 was 180000.\n",
      "The population of St. Vincent and the Grenadines in 2018 was 110000.\n",
      "The population of Tonga in 2018 was 109000.\n"
     ]
    }
   ],
   "source": [
    "#answer for question with last 10\n",
    "\n",
    "tenth_smallest_population = sorted_pop_2018[9]\n",
    "print(\"Countries with Smallest Populations in 2018\")\n",
    "print(\"------------------------------------------------------\")\n",
    "for i in range(len(pop_2018)):\n",
    "    if pop_2018[i] <= tenth_smallest_population:\n",
    "        print(f\"The population of {country_2018[i]} in 2018 was {pop_2018[i]}.\")"
   ]
  },
  {
   "cell_type": "markdown",
   "id": "0f8378a8",
   "metadata": {},
   "source": [
    "<hr style=\"border: 1px solid black;\">"
   ]
  },
  {
   "cell_type": "markdown",
   "id": "8768c2e3",
   "metadata": {},
   "source": [
    "Now I'll answer the questions with PandasAI and an LLM here in the notebook. The API I'm going to use is OpenAI, but you can choose essentially whatever you want. The default is BambooLLM from HuggingFace."
   ]
  },
  {
   "cell_type": "code",
   "execution_count": 12,
   "id": "5dc1dd06",
   "metadata": {},
   "outputs": [
    {
     "name": "stdout",
     "output_type": "stream",
     "text": [
      "API Key Loaded: Yes\n"
     ]
    }
   ],
   "source": [
    "#attempt to access the OpenAI API key again\n",
    "api_key = os.getenv('OPENAI_API_KEY')\n",
    "\n",
    "#check if the key was retrieved\n",
    "print(\"API Key Loaded:\", \"Yes\" if api_key else \"No\")\n"
   ]
  },
  {
   "cell_type": "code",
   "execution_count": 16,
   "id": "0e07cfe4",
   "metadata": {},
   "outputs": [],
   "source": [
    "openai = OpenAI(model = \"gpt-4o-mini\")"
   ]
  },
  {
   "cell_type": "code",
   "execution_count": 24,
   "id": "64c256fb",
   "metadata": {
    "scrolled": false
   },
   "outputs": [
    {
     "name": "stdout",
     "output_type": "stream",
     "text": [
      "{'type': 'string', 'value': 'The population of Bangladesh in 2018 was 166000000.\\nThe population of Brazil in 2018 was 211000000.\\nThe population of China in 2018 was 1420000000.\\nThe population of India in 2018 was 1350000000.\\nThe population of Indonesia in 2018 was 267000000.\\nThe population of Mexico in 2018 was 131000000.\\nThe population of Nigeria in 2018 was 196000000.\\nThe population of Pakistan in 2018 was 201000000.\\nThe population of Russia in 2018 was 144000000.\\nThe population of United States in 2018 was 327000000.'}\n",
      "{'type': 'string', 'value': 'The population of Antigua and Barbuda in 2018 was 103000.\\nThe population of Grenada in 2018 was 108000.\\nThe population of Kiribati in 2018 was 118000.\\nThe population of Micronesia, Fed. Sts. in 2018 was 106000.\\nThe population of Samoa in 2018 was 198000.\\nThe population of Sao Tome and Principe in 2018 was 209000.\\nThe population of Seychelles in 2018 was 95200.\\nThe population of St. Lucia in 2018 was 180000.\\nThe population of St. Vincent and the Grenadines in 2018 was 110000.\\nThe population of Tonga in 2018 was 109000.'}\n"
     ]
    }
   ],
   "source": [
    "#convert to SmartDataframe\n",
    "\n",
    "sdf = SmartDataframe(df, config={\"llm\": openai})\n",
    "top_output = sdf.chat('List the top 10 countries based on 2018 population ranked alphabetically with an output format of \"The population of country name in 2018 was population.\"')\n",
    "bottom_output = sdf.chat('List the bottom 10 countries based on 2018 population ranked alphabetically with an output format of \"The population of country name in 2018 was population.\"')"
   ]
  },
  {
   "cell_type": "code",
   "execution_count": 28,
   "id": "f2dc0331",
   "metadata": {},
   "outputs": [
    {
     "name": "stdout",
     "output_type": "stream",
     "text": [
      "Countries with Largest Populations in 2018\n",
      "------------------------------------------------\n",
      "The population of Bangladesh in 2018 was 166000000.\n",
      "The population of Brazil in 2018 was 211000000.\n",
      "The population of China in 2018 was 1420000000.\n",
      "The population of India in 2018 was 1350000000.\n",
      "The population of Indonesia in 2018 was 267000000.\n",
      "The population of Mexico in 2018 was 131000000.\n",
      "The population of Nigeria in 2018 was 196000000.\n",
      "The population of Pakistan in 2018 was 201000000.\n",
      "The population of Russia in 2018 was 144000000.\n",
      "The population of United States in 2018 was 327000000.\n",
      "\n",
      "Countries with Largest Populations in 2018\n",
      "------------------------------------------------\n",
      "The population of Antigua and Barbuda in 2018 was 103000.\n",
      "The population of Grenada in 2018 was 108000.\n",
      "The population of Kiribati in 2018 was 118000.\n",
      "The population of Micronesia, Fed. Sts. in 2018 was 106000.\n",
      "The population of Samoa in 2018 was 198000.\n",
      "The population of Sao Tome and Principe in 2018 was 209000.\n",
      "The population of Seychelles in 2018 was 95200.\n",
      "The population of St. Lucia in 2018 was 180000.\n",
      "The population of St. Vincent and the Grenadines in 2018 was 110000.\n",
      "The population of Tonga in 2018 was 109000.\n"
     ]
    }
   ],
   "source": [
    "#now just clean it up a bit\n",
    "\n",
    "top_rows = top_output.split('\\n')\n",
    "bottom_rows = bottom_output.split('\\n')\n",
    "\n",
    "print(\"Countries with Largest Populations in 2018\")\n",
    "print(\"-\"*48)\n",
    "for row in top_rows:\n",
    "    print(row)\n",
    "    \n",
    "print(\"\\nCountries with Largest Populations in 2018\")\n",
    "print(\"-\"*48)\n",
    "for row in bottom_rows:\n",
    "    print(row)"
   ]
  },
  {
   "cell_type": "code",
   "execution_count": null,
   "id": "ef101c4d",
   "metadata": {},
   "outputs": [],
   "source": []
  }
 ],
 "metadata": {
  "kernelspec": {
   "display_name": "Python 3 (ipykernel)",
   "language": "python",
   "name": "python3"
  },
  "language_info": {
   "codemirror_mode": {
    "name": "ipython",
    "version": 3
   },
   "file_extension": ".py",
   "mimetype": "text/x-python",
   "name": "python",
   "nbconvert_exporter": "python",
   "pygments_lexer": "ipython3",
   "version": "3.9.13"
  }
 },
 "nbformat": 4,
 "nbformat_minor": 5
}
